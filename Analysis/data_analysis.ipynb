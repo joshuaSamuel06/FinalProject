{
 "cells": [
  {
   "cell_type": "code",
   "execution_count": 2,
   "metadata": {},
   "outputs": [],
   "source": [
    "import pandas as pd\n",
    "df = pd.read_csv(\"data.csv\")"
   ]
  },
  {
   "cell_type": "code",
   "execution_count": 3,
   "metadata": {},
   "outputs": [
    {
     "name": "stdout",
     "output_type": "stream",
     "text": [
      "<class 'pandas.core.frame.DataFrame'>\n",
      "RangeIndex: 89184 entries, 0 to 89183\n",
      "Data columns (total 84 columns):\n",
      " #   Column                               Non-Null Count  Dtype  \n",
      "---  ------                               --------------  -----  \n",
      " 0   ResponseId                           89184 non-null  int64  \n",
      " 1   Q120                                 89184 non-null  object \n",
      " 2   MainBranch                           89184 non-null  object \n",
      " 3   Age                                  89184 non-null  object \n",
      " 4   Employment                           87898 non-null  object \n",
      " 5   RemoteWork                           73810 non-null  object \n",
      " 6   CodingActivities                     73764 non-null  object \n",
      " 7   EdLevel                              87973 non-null  object \n",
      " 8   LearnCode                            87663 non-null  object \n",
      " 9   LearnCodeOnline                      70084 non-null  object \n",
      " 10  LearnCodeCoursesCert                 37076 non-null  object \n",
      " 11  YearsCode                            87435 non-null  object \n",
      " 12  YearsCodePro                         66136 non-null  object \n",
      " 13  DevType                              76872 non-null  object \n",
      " 14  OrgSize                              65043 non-null  object \n",
      " 15  PurchaseInfluence                    64964 non-null  object \n",
      " 16  TechList                             60851 non-null  object \n",
      " 17  BuyNewTool                           83009 non-null  object \n",
      " 18  Country                              87973 non-null  object \n",
      " 19  Currency                             65334 non-null  object \n",
      " 20  CompTotal                            48225 non-null  float64\n",
      " 21  LanguageHaveWorkedWith               87140 non-null  object \n",
      " 22  LanguageWantToWorkWith               80709 non-null  object \n",
      " 23  DatabaseHaveWorkedWith               73435 non-null  object \n",
      " 24  DatabaseWantToWorkWith               60911 non-null  object \n",
      " 25  PlatformHaveWorkedWith               63628 non-null  object \n",
      " 26  PlatformWantToWorkWith               51308 non-null  object \n",
      " 27  WebframeHaveWorkedWith               66938 non-null  object \n",
      " 28  WebframeWantToWorkWith               56741 non-null  object \n",
      " 29  MiscTechHaveWorkedWith               57019 non-null  object \n",
      " 30  MiscTechWantToWorkWith               46848 non-null  object \n",
      " 31  ToolsTechHaveWorkedWith              77884 non-null  object \n",
      " 32  ToolsTechWantToWorkWith              68315 non-null  object \n",
      " 33  NEWCollabToolsHaveWorkedWith         85864 non-null  object \n",
      " 34  NEWCollabToolsWantToWorkWith         76649 non-null  object \n",
      " 35  OpSysPersonal use                    86557 non-null  object \n",
      " 36  OpSysProfessional use                78587 non-null  object \n",
      " 37  OfficeStackAsyncHaveWorkedWith       69090 non-null  object \n",
      " 38  OfficeStackAsyncWantToWorkWith       53743 non-null  object \n",
      " 39  OfficeStackSyncHaveWorkedWith        83439 non-null  object \n",
      " 40  OfficeStackSyncWantToWorkWith        69776 non-null  object \n",
      " 41  AISearchHaveWorkedWith               56328 non-null  object \n",
      " 42  AISearchWantToWorkWith               46150 non-null  object \n",
      " 43  AIDevHaveWorkedWith                  25904 non-null  object \n",
      " 44  AIDevWantToWorkWith                  19587 non-null  object \n",
      " 45  NEWSOSites                           87973 non-null  object \n",
      " 46  SOVisitFreq                          87140 non-null  object \n",
      " 47  SOAccount                            87852 non-null  object \n",
      " 48  SOPartFreq                           66061 non-null  object \n",
      " 49  SOComm                               87692 non-null  object \n",
      " 50  SOAI                                 47858 non-null  object \n",
      " 51  AISelect                             87973 non-null  object \n",
      " 52  AISent                               61501 non-null  object \n",
      " 53  AIAcc                                38594 non-null  object \n",
      " 54  AIBen                                61396 non-null  object \n",
      " 55  AIToolInterested in Using            32783 non-null  object \n",
      " 56  AIToolCurrently Using                36137 non-null  object \n",
      " 57  AIToolNot interested in Using        21069 non-null  object \n",
      " 58  AINextVery different                 12661 non-null  object \n",
      " 59  AINextNeither different nor similar  6599 non-null   object \n",
      " 60  AINextSomewhat similar               6238 non-null   object \n",
      " 61  AINextVery similar                   2621 non-null   object \n",
      " 62  AINextSomewhat different             23303 non-null  object \n",
      " 63  TBranch                              65768 non-null  object \n",
      " 64  ICorPM                               43668 non-null  object \n",
      " 65  WorkExp                              43579 non-null  float64\n",
      " 66  Knowledge_1                          42535 non-null  object \n",
      " 67  Knowledge_2                          41670 non-null  object \n",
      " 68  Knowledge_3                          41798 non-null  object \n",
      " 69  Knowledge_4                          41684 non-null  object \n",
      " 70  Knowledge_5                          41527 non-null  object \n",
      " 71  Knowledge_6                          41520 non-null  object \n",
      " 72  Knowledge_7                          41467 non-null  object \n",
      " 73  Knowledge_8                          41404 non-null  object \n",
      " 74  Frequency_1                          41916 non-null  object \n",
      " 75  Frequency_2                          41925 non-null  object \n",
      " 76  Frequency_3                          41054 non-null  object \n",
      " 77  TimeSearching                        42778 non-null  object \n",
      " 78  TimeAnswering                        42629 non-null  object \n",
      " 79  ProfessionalTech                     41783 non-null  object \n",
      " 80  Industry                             36774 non-null  object \n",
      " 81  SurveyLength                         86485 non-null  object \n",
      " 82  SurveyEase                           86554 non-null  object \n",
      " 83  ConvertedCompYearly                  48019 non-null  float64\n",
      "dtypes: float64(3), int64(1), object(80)\n",
      "memory usage: 57.2+ MB\n"
     ]
    }
   ],
   "source": [
    "df.info()"
   ]
  },
  {
   "cell_type": "code",
   "execution_count": 4,
   "metadata": {},
   "outputs": [
    {
     "data": {
      "text/html": [
       "<div>\n",
       "<style scoped>\n",
       "    .dataframe tbody tr th:only-of-type {\n",
       "        vertical-align: middle;\n",
       "    }\n",
       "\n",
       "    .dataframe tbody tr th {\n",
       "        vertical-align: top;\n",
       "    }\n",
       "\n",
       "    .dataframe thead th {\n",
       "        text-align: right;\n",
       "    }\n",
       "</style>\n",
       "<table border=\"1\" class=\"dataframe\">\n",
       "  <thead>\n",
       "    <tr style=\"text-align: right;\">\n",
       "      <th></th>\n",
       "      <th>ResponseId</th>\n",
       "      <th>Q120</th>\n",
       "      <th>MainBranch</th>\n",
       "      <th>Age</th>\n",
       "      <th>Employment</th>\n",
       "      <th>RemoteWork</th>\n",
       "      <th>CodingActivities</th>\n",
       "      <th>EdLevel</th>\n",
       "      <th>LearnCode</th>\n",
       "      <th>LearnCodeOnline</th>\n",
       "      <th>...</th>\n",
       "      <th>Frequency_1</th>\n",
       "      <th>Frequency_2</th>\n",
       "      <th>Frequency_3</th>\n",
       "      <th>TimeSearching</th>\n",
       "      <th>TimeAnswering</th>\n",
       "      <th>ProfessionalTech</th>\n",
       "      <th>Industry</th>\n",
       "      <th>SurveyLength</th>\n",
       "      <th>SurveyEase</th>\n",
       "      <th>ConvertedCompYearly</th>\n",
       "    </tr>\n",
       "  </thead>\n",
       "  <tbody>\n",
       "    <tr>\n",
       "      <th>0</th>\n",
       "      <td>1</td>\n",
       "      <td>I agree</td>\n",
       "      <td>None of these</td>\n",
       "      <td>18-24 years old</td>\n",
       "      <td>NaN</td>\n",
       "      <td>NaN</td>\n",
       "      <td>NaN</td>\n",
       "      <td>NaN</td>\n",
       "      <td>NaN</td>\n",
       "      <td>NaN</td>\n",
       "      <td>...</td>\n",
       "      <td>NaN</td>\n",
       "      <td>NaN</td>\n",
       "      <td>NaN</td>\n",
       "      <td>NaN</td>\n",
       "      <td>NaN</td>\n",
       "      <td>NaN</td>\n",
       "      <td>NaN</td>\n",
       "      <td>NaN</td>\n",
       "      <td>NaN</td>\n",
       "      <td>NaN</td>\n",
       "    </tr>\n",
       "    <tr>\n",
       "      <th>1</th>\n",
       "      <td>2</td>\n",
       "      <td>I agree</td>\n",
       "      <td>I am a developer by profession</td>\n",
       "      <td>25-34 years old</td>\n",
       "      <td>Employed, full-time</td>\n",
       "      <td>Remote</td>\n",
       "      <td>Hobby;Contribute to open-source projects;Boots...</td>\n",
       "      <td>Bachelor’s degree (B.A., B.S., B.Eng., etc.)</td>\n",
       "      <td>Books / Physical media;Colleague;Friend or fam...</td>\n",
       "      <td>Formal documentation provided by the owner of ...</td>\n",
       "      <td>...</td>\n",
       "      <td>1-2 times a week</td>\n",
       "      <td>10+ times a week</td>\n",
       "      <td>Never</td>\n",
       "      <td>15-30 minutes a day</td>\n",
       "      <td>15-30 minutes a day</td>\n",
       "      <td>DevOps function;Microservices;Automated testin...</td>\n",
       "      <td>Information Services, IT, Software Development...</td>\n",
       "      <td>Appropriate in length</td>\n",
       "      <td>Easy</td>\n",
       "      <td>285000.0</td>\n",
       "    </tr>\n",
       "    <tr>\n",
       "      <th>2</th>\n",
       "      <td>3</td>\n",
       "      <td>I agree</td>\n",
       "      <td>I am a developer by profession</td>\n",
       "      <td>45-54 years old</td>\n",
       "      <td>Employed, full-time</td>\n",
       "      <td>Hybrid (some remote, some in-person)</td>\n",
       "      <td>Hobby;Professional development or self-paced l...</td>\n",
       "      <td>Bachelor’s degree (B.A., B.S., B.Eng., etc.)</td>\n",
       "      <td>Books / Physical media;Colleague;On the job tr...</td>\n",
       "      <td>Formal documentation provided by the owner of ...</td>\n",
       "      <td>...</td>\n",
       "      <td>6-10 times a week</td>\n",
       "      <td>6-10 times a week</td>\n",
       "      <td>3-5 times a week</td>\n",
       "      <td>30-60 minutes a day</td>\n",
       "      <td>30-60 minutes a day</td>\n",
       "      <td>DevOps function;Microservices;Automated testin...</td>\n",
       "      <td>Information Services, IT, Software Development...</td>\n",
       "      <td>Appropriate in length</td>\n",
       "      <td>Easy</td>\n",
       "      <td>250000.0</td>\n",
       "    </tr>\n",
       "    <tr>\n",
       "      <th>3</th>\n",
       "      <td>4</td>\n",
       "      <td>I agree</td>\n",
       "      <td>I am a developer by profession</td>\n",
       "      <td>25-34 years old</td>\n",
       "      <td>Employed, full-time</td>\n",
       "      <td>Hybrid (some remote, some in-person)</td>\n",
       "      <td>Hobby</td>\n",
       "      <td>Bachelor’s degree (B.A., B.S., B.Eng., etc.)</td>\n",
       "      <td>Colleague;Friend or family member;Other online...</td>\n",
       "      <td>Formal documentation provided by the owner of ...</td>\n",
       "      <td>...</td>\n",
       "      <td>1-2 times a week</td>\n",
       "      <td>10+ times a week</td>\n",
       "      <td>1-2 times a week</td>\n",
       "      <td>15-30 minutes a day</td>\n",
       "      <td>30-60 minutes a day</td>\n",
       "      <td>Automated testing;Continuous integration (CI) ...</td>\n",
       "      <td>NaN</td>\n",
       "      <td>Appropriate in length</td>\n",
       "      <td>Easy</td>\n",
       "      <td>156000.0</td>\n",
       "    </tr>\n",
       "    <tr>\n",
       "      <th>4</th>\n",
       "      <td>5</td>\n",
       "      <td>I agree</td>\n",
       "      <td>I am a developer by profession</td>\n",
       "      <td>25-34 years old</td>\n",
       "      <td>Employed, full-time;Independent contractor, fr...</td>\n",
       "      <td>Remote</td>\n",
       "      <td>Hobby;Contribute to open-source projects;Profe...</td>\n",
       "      <td>Bachelor’s degree (B.A., B.S., B.Eng., etc.)</td>\n",
       "      <td>Books / Physical media;Online Courses or Certi...</td>\n",
       "      <td>Formal documentation provided by the owner of ...</td>\n",
       "      <td>...</td>\n",
       "      <td>1-2 times a week</td>\n",
       "      <td>1-2 times a week</td>\n",
       "      <td>3-5 times a week</td>\n",
       "      <td>60-120 minutes a day</td>\n",
       "      <td>30-60 minutes a day</td>\n",
       "      <td>Microservices;Automated testing;Observability ...</td>\n",
       "      <td>Other</td>\n",
       "      <td>Appropriate in length</td>\n",
       "      <td>Neither easy nor difficult</td>\n",
       "      <td>23456.0</td>\n",
       "    </tr>\n",
       "  </tbody>\n",
       "</table>\n",
       "<p>5 rows × 84 columns</p>\n",
       "</div>"
      ],
      "text/plain": [
       "   ResponseId     Q120                      MainBranch              Age  \\\n",
       "0           1  I agree                   None of these  18-24 years old   \n",
       "1           2  I agree  I am a developer by profession  25-34 years old   \n",
       "2           3  I agree  I am a developer by profession  45-54 years old   \n",
       "3           4  I agree  I am a developer by profession  25-34 years old   \n",
       "4           5  I agree  I am a developer by profession  25-34 years old   \n",
       "\n",
       "                                          Employment  \\\n",
       "0                                                NaN   \n",
       "1                                Employed, full-time   \n",
       "2                                Employed, full-time   \n",
       "3                                Employed, full-time   \n",
       "4  Employed, full-time;Independent contractor, fr...   \n",
       "\n",
       "                             RemoteWork  \\\n",
       "0                                   NaN   \n",
       "1                                Remote   \n",
       "2  Hybrid (some remote, some in-person)   \n",
       "3  Hybrid (some remote, some in-person)   \n",
       "4                                Remote   \n",
       "\n",
       "                                    CodingActivities  \\\n",
       "0                                                NaN   \n",
       "1  Hobby;Contribute to open-source projects;Boots...   \n",
       "2  Hobby;Professional development or self-paced l...   \n",
       "3                                              Hobby   \n",
       "4  Hobby;Contribute to open-source projects;Profe...   \n",
       "\n",
       "                                        EdLevel  \\\n",
       "0                                           NaN   \n",
       "1  Bachelor’s degree (B.A., B.S., B.Eng., etc.)   \n",
       "2  Bachelor’s degree (B.A., B.S., B.Eng., etc.)   \n",
       "3  Bachelor’s degree (B.A., B.S., B.Eng., etc.)   \n",
       "4  Bachelor’s degree (B.A., B.S., B.Eng., etc.)   \n",
       "\n",
       "                                           LearnCode  \\\n",
       "0                                                NaN   \n",
       "1  Books / Physical media;Colleague;Friend or fam...   \n",
       "2  Books / Physical media;Colleague;On the job tr...   \n",
       "3  Colleague;Friend or family member;Other online...   \n",
       "4  Books / Physical media;Online Courses or Certi...   \n",
       "\n",
       "                                     LearnCodeOnline  ...        Frequency_1  \\\n",
       "0                                                NaN  ...                NaN   \n",
       "1  Formal documentation provided by the owner of ...  ...   1-2 times a week   \n",
       "2  Formal documentation provided by the owner of ...  ...  6-10 times a week   \n",
       "3  Formal documentation provided by the owner of ...  ...   1-2 times a week   \n",
       "4  Formal documentation provided by the owner of ...  ...   1-2 times a week   \n",
       "\n",
       "         Frequency_2       Frequency_3         TimeSearching  \\\n",
       "0                NaN               NaN                   NaN   \n",
       "1   10+ times a week             Never   15-30 minutes a day   \n",
       "2  6-10 times a week  3-5 times a week   30-60 minutes a day   \n",
       "3   10+ times a week  1-2 times a week   15-30 minutes a day   \n",
       "4   1-2 times a week  3-5 times a week  60-120 minutes a day   \n",
       "\n",
       "         TimeAnswering                                   ProfessionalTech  \\\n",
       "0                  NaN                                                NaN   \n",
       "1  15-30 minutes a day  DevOps function;Microservices;Automated testin...   \n",
       "2  30-60 minutes a day  DevOps function;Microservices;Automated testin...   \n",
       "3  30-60 minutes a day  Automated testing;Continuous integration (CI) ...   \n",
       "4  30-60 minutes a day  Microservices;Automated testing;Observability ...   \n",
       "\n",
       "                                            Industry           SurveyLength  \\\n",
       "0                                                NaN                    NaN   \n",
       "1  Information Services, IT, Software Development...  Appropriate in length   \n",
       "2  Information Services, IT, Software Development...  Appropriate in length   \n",
       "3                                                NaN  Appropriate in length   \n",
       "4                                              Other  Appropriate in length   \n",
       "\n",
       "                   SurveyEase ConvertedCompYearly  \n",
       "0                         NaN                 NaN  \n",
       "1                        Easy            285000.0  \n",
       "2                        Easy            250000.0  \n",
       "3                        Easy            156000.0  \n",
       "4  Neither easy nor difficult             23456.0  \n",
       "\n",
       "[5 rows x 84 columns]"
      ]
     },
     "execution_count": 4,
     "metadata": {},
     "output_type": "execute_result"
    }
   ],
   "source": [
    "df.head()"
   ]
  },
  {
   "cell_type": "code",
   "execution_count": 5,
   "metadata": {},
   "outputs": [],
   "source": [
    "# pd.set_option(\"display.max_columns\", 100)\n",
    "# pd.set_option(\"display.max_rows\", 100)"
   ]
  },
  {
   "cell_type": "code",
   "execution_count": 6,
   "metadata": {},
   "outputs": [],
   "source": [
    "schema_df = pd.read_csv(\"survey_results_schema.csv\")"
   ]
  },
  {
   "cell_type": "code",
   "execution_count": 7,
   "metadata": {},
   "outputs": [
    {
     "data": {
      "text/html": [
       "<div>\n",
       "<style scoped>\n",
       "    .dataframe tbody tr th:only-of-type {\n",
       "        vertical-align: middle;\n",
       "    }\n",
       "\n",
       "    .dataframe tbody tr th {\n",
       "        vertical-align: top;\n",
       "    }\n",
       "\n",
       "    .dataframe thead th {\n",
       "        text-align: right;\n",
       "    }\n",
       "</style>\n",
       "<table border=\"1\" class=\"dataframe\">\n",
       "  <thead>\n",
       "    <tr style=\"text-align: right;\">\n",
       "      <th></th>\n",
       "      <th>qid</th>\n",
       "      <th>qname</th>\n",
       "      <th>question</th>\n",
       "      <th>force_resp</th>\n",
       "      <th>type</th>\n",
       "      <th>selector</th>\n",
       "    </tr>\n",
       "  </thead>\n",
       "  <tbody>\n",
       "    <tr>\n",
       "      <th>0</th>\n",
       "      <td>QID16</td>\n",
       "      <td>S0</td>\n",
       "      <td>&lt;div&gt;&lt;span style=\"font-size:19px;\"&gt;&lt;strong&gt;Hel...</td>\n",
       "      <td>False</td>\n",
       "      <td>DB</td>\n",
       "      <td>TB</td>\n",
       "    </tr>\n",
       "    <tr>\n",
       "      <th>1</th>\n",
       "      <td>QID12</td>\n",
       "      <td>MetaInfo</td>\n",
       "      <td>Browser Meta Info</td>\n",
       "      <td>False</td>\n",
       "      <td>Meta</td>\n",
       "      <td>Browser</td>\n",
       "    </tr>\n",
       "    <tr>\n",
       "      <th>2</th>\n",
       "      <td>QID310</td>\n",
       "      <td>Q310</td>\n",
       "      <td>&lt;div&gt;&lt;span style=\"font-size:19px;\"&gt;&lt;strong&gt;You...</td>\n",
       "      <td>False</td>\n",
       "      <td>DB</td>\n",
       "      <td>TB</td>\n",
       "    </tr>\n",
       "    <tr>\n",
       "      <th>3</th>\n",
       "      <td>QID312</td>\n",
       "      <td>Q120</td>\n",
       "      <td></td>\n",
       "      <td>True</td>\n",
       "      <td>MC</td>\n",
       "      <td>SAVR</td>\n",
       "    </tr>\n",
       "    <tr>\n",
       "      <th>4</th>\n",
       "      <td>QID1</td>\n",
       "      <td>S1</td>\n",
       "      <td>&lt;span style=\"font-size:22px; font-family: aria...</td>\n",
       "      <td>False</td>\n",
       "      <td>DB</td>\n",
       "      <td>TB</td>\n",
       "    </tr>\n",
       "    <tr>\n",
       "      <th>...</th>\n",
       "      <td>...</td>\n",
       "      <td>...</td>\n",
       "      <td>...</td>\n",
       "      <td>...</td>\n",
       "      <td>...</td>\n",
       "      <td>...</td>\n",
       "    </tr>\n",
       "    <tr>\n",
       "      <th>73</th>\n",
       "      <td>QID289</td>\n",
       "      <td>Knowledge_7</td>\n",
       "      <td>Waiting on answers to questions often causes i...</td>\n",
       "      <td>NaN</td>\n",
       "      <td>MC</td>\n",
       "      <td>MAVR</td>\n",
       "    </tr>\n",
       "    <tr>\n",
       "      <th>74</th>\n",
       "      <td>QID289</td>\n",
       "      <td>Knowledge_8</td>\n",
       "      <td>I feel like I have the tools and/or resources ...</td>\n",
       "      <td>NaN</td>\n",
       "      <td>MC</td>\n",
       "      <td>MAVR</td>\n",
       "    </tr>\n",
       "    <tr>\n",
       "      <th>75</th>\n",
       "      <td>QID290</td>\n",
       "      <td>Frequency_1</td>\n",
       "      <td>Needing help from people outside of your immed...</td>\n",
       "      <td>NaN</td>\n",
       "      <td>MC</td>\n",
       "      <td>MAVR</td>\n",
       "    </tr>\n",
       "    <tr>\n",
       "      <th>76</th>\n",
       "      <td>QID290</td>\n",
       "      <td>Frequency_2</td>\n",
       "      <td>Interacting with people outside of your immedi...</td>\n",
       "      <td>NaN</td>\n",
       "      <td>MC</td>\n",
       "      <td>MAVR</td>\n",
       "    </tr>\n",
       "    <tr>\n",
       "      <th>77</th>\n",
       "      <td>QID290</td>\n",
       "      <td>Frequency_3</td>\n",
       "      <td>Encountering knowledge silos (where one indivi...</td>\n",
       "      <td>NaN</td>\n",
       "      <td>MC</td>\n",
       "      <td>MAVR</td>\n",
       "    </tr>\n",
       "  </tbody>\n",
       "</table>\n",
       "<p>78 rows × 6 columns</p>\n",
       "</div>"
      ],
      "text/plain": [
       "       qid        qname                                           question  \\\n",
       "0    QID16           S0  <div><span style=\"font-size:19px;\"><strong>Hel...   \n",
       "1    QID12     MetaInfo                                  Browser Meta Info   \n",
       "2   QID310         Q310  <div><span style=\"font-size:19px;\"><strong>You...   \n",
       "3   QID312         Q120                                                      \n",
       "4     QID1           S1  <span style=\"font-size:22px; font-family: aria...   \n",
       "..     ...          ...                                                ...   \n",
       "73  QID289  Knowledge_7  Waiting on answers to questions often causes i...   \n",
       "74  QID289  Knowledge_8  I feel like I have the tools and/or resources ...   \n",
       "75  QID290  Frequency_1  Needing help from people outside of your immed...   \n",
       "76  QID290  Frequency_2  Interacting with people outside of your immedi...   \n",
       "77  QID290  Frequency_3  Encountering knowledge silos (where one indivi...   \n",
       "\n",
       "   force_resp  type selector  \n",
       "0       False    DB       TB  \n",
       "1       False  Meta  Browser  \n",
       "2       False    DB       TB  \n",
       "3        True    MC     SAVR  \n",
       "4       False    DB       TB  \n",
       "..        ...   ...      ...  \n",
       "73        NaN    MC     MAVR  \n",
       "74        NaN    MC     MAVR  \n",
       "75        NaN    MC     MAVR  \n",
       "76        NaN    MC     MAVR  \n",
       "77        NaN    MC     MAVR  \n",
       "\n",
       "[78 rows x 6 columns]"
      ]
     },
     "execution_count": 7,
     "metadata": {},
     "output_type": "execute_result"
    }
   ],
   "source": [
    "schema_df"
   ]
  },
  {
   "cell_type": "code",
   "execution_count": 8,
   "metadata": {},
   "outputs": [],
   "source": [
    "high_salary = (df[\"ConvertedCompYearly\"] > 200000)\n",
    "country_filter = (df[\"Country\"] == \"United Kingdom of Great Britain and Northern Ireland\")\n",
    "lan_filter = (df[\"LanguageHaveWorkedWith\"].str.contains(\"Python\", na=False))"
   ]
  },
  {
   "cell_type": "code",
   "execution_count": 9,
   "metadata": {},
   "outputs": [
    {
     "data": {
      "text/html": [
       "<div>\n",
       "<style scoped>\n",
       "    .dataframe tbody tr th:only-of-type {\n",
       "        vertical-align: middle;\n",
       "    }\n",
       "\n",
       "    .dataframe tbody tr th {\n",
       "        vertical-align: top;\n",
       "    }\n",
       "\n",
       "    .dataframe thead th {\n",
       "        text-align: right;\n",
       "    }\n",
       "</style>\n",
       "<table border=\"1\" class=\"dataframe\">\n",
       "  <thead>\n",
       "    <tr style=\"text-align: right;\">\n",
       "      <th></th>\n",
       "      <th>LanguageHaveWorkedWith</th>\n",
       "      <th>Country</th>\n",
       "    </tr>\n",
       "  </thead>\n",
       "  <tbody>\n",
       "    <tr>\n",
       "      <th>1</th>\n",
       "      <td>HTML/CSS;JavaScript;Python</td>\n",
       "      <td>United States of America</td>\n",
       "    </tr>\n",
       "    <tr>\n",
       "      <th>2</th>\n",
       "      <td>Bash/Shell (all shells);Go</td>\n",
       "      <td>United States of America</td>\n",
       "    </tr>\n",
       "    <tr>\n",
       "      <th>30</th>\n",
       "      <td>Go;JavaScript;Python</td>\n",
       "      <td>Australia</td>\n",
       "    </tr>\n",
       "    <tr>\n",
       "      <th>121</th>\n",
       "      <td>Go;HTML/CSS;JavaScript;PowerShell;Python;Rust</td>\n",
       "      <td>United States of America</td>\n",
       "    </tr>\n",
       "    <tr>\n",
       "      <th>248</th>\n",
       "      <td>Bash/Shell (all shells);Go;HTML/CSS;JavaScript...</td>\n",
       "      <td>United Kingdom of Great Britain and Northern I...</td>\n",
       "    </tr>\n",
       "    <tr>\n",
       "      <th>...</th>\n",
       "      <td>...</td>\n",
       "      <td>...</td>\n",
       "    </tr>\n",
       "    <tr>\n",
       "      <th>89133</th>\n",
       "      <td>C#;JavaScript;SQL;TypeScript</td>\n",
       "      <td>United States of America</td>\n",
       "    </tr>\n",
       "    <tr>\n",
       "      <th>89137</th>\n",
       "      <td>Bash/Shell (all shells);Go;HTML/CSS;JavaScript</td>\n",
       "      <td>Kenya</td>\n",
       "    </tr>\n",
       "    <tr>\n",
       "      <th>89139</th>\n",
       "      <td>Bash/Shell (all shells);C++;JavaScript;Python</td>\n",
       "      <td>United States of America</td>\n",
       "    </tr>\n",
       "    <tr>\n",
       "      <th>89141</th>\n",
       "      <td>C#;C++;Java;Ruby;Scala;SQL;TypeScript</td>\n",
       "      <td>United States of America</td>\n",
       "    </tr>\n",
       "    <tr>\n",
       "      <th>89157</th>\n",
       "      <td>Java;Kotlin</td>\n",
       "      <td>Canada</td>\n",
       "    </tr>\n",
       "  </tbody>\n",
       "</table>\n",
       "<p>3271 rows × 2 columns</p>\n",
       "</div>"
      ],
      "text/plain": [
       "                                  LanguageHaveWorkedWith  \\\n",
       "1                             HTML/CSS;JavaScript;Python   \n",
       "2                             Bash/Shell (all shells);Go   \n",
       "30                                  Go;JavaScript;Python   \n",
       "121        Go;HTML/CSS;JavaScript;PowerShell;Python;Rust   \n",
       "248    Bash/Shell (all shells);Go;HTML/CSS;JavaScript...   \n",
       "...                                                  ...   \n",
       "89133                       C#;JavaScript;SQL;TypeScript   \n",
       "89137     Bash/Shell (all shells);Go;HTML/CSS;JavaScript   \n",
       "89139      Bash/Shell (all shells);C++;JavaScript;Python   \n",
       "89141              C#;C++;Java;Ruby;Scala;SQL;TypeScript   \n",
       "89157                                        Java;Kotlin   \n",
       "\n",
       "                                                 Country  \n",
       "1                               United States of America  \n",
       "2                               United States of America  \n",
       "30                                             Australia  \n",
       "121                             United States of America  \n",
       "248    United Kingdom of Great Britain and Northern I...  \n",
       "...                                                  ...  \n",
       "89133                           United States of America  \n",
       "89137                                              Kenya  \n",
       "89139                           United States of America  \n",
       "89141                           United States of America  \n",
       "89157                                             Canada  \n",
       "\n",
       "[3271 rows x 2 columns]"
      ]
     },
     "execution_count": 9,
     "metadata": {},
     "output_type": "execute_result"
    }
   ],
   "source": [
    "df.loc[high_salary, [\"LanguageHaveWorkedWith\", \"Country\"]]"
   ]
  },
  {
   "cell_type": "code",
   "execution_count": 10,
   "metadata": {},
   "outputs": [
    {
     "name": "stderr",
     "output_type": "stream",
     "text": [
      "/tmp/ipykernel_11931/401997287.py:1: UserWarning: Boolean Series key will be reindexed to match DataFrame index.\n",
      "  df.loc[high_salary, [\"LanguageHaveWorkedWith\", \"Country\"]][lan_filter][country_filter]\n",
      "/tmp/ipykernel_11931/401997287.py:1: UserWarning: Boolean Series key will be reindexed to match DataFrame index.\n",
      "  df.loc[high_salary, [\"LanguageHaveWorkedWith\", \"Country\"]][lan_filter][country_filter]\n"
     ]
    },
    {
     "data": {
      "text/html": [
       "<div>\n",
       "<style scoped>\n",
       "    .dataframe tbody tr th:only-of-type {\n",
       "        vertical-align: middle;\n",
       "    }\n",
       "\n",
       "    .dataframe tbody tr th {\n",
       "        vertical-align: top;\n",
       "    }\n",
       "\n",
       "    .dataframe thead th {\n",
       "        text-align: right;\n",
       "    }\n",
       "</style>\n",
       "<table border=\"1\" class=\"dataframe\">\n",
       "  <thead>\n",
       "    <tr style=\"text-align: right;\">\n",
       "      <th></th>\n",
       "      <th>LanguageHaveWorkedWith</th>\n",
       "      <th>Country</th>\n",
       "    </tr>\n",
       "  </thead>\n",
       "  <tbody>\n",
       "    <tr>\n",
       "      <th>248</th>\n",
       "      <td>Bash/Shell (all shells);Go;HTML/CSS;JavaScript...</td>\n",
       "      <td>United Kingdom of Great Britain and Northern I...</td>\n",
       "    </tr>\n",
       "    <tr>\n",
       "      <th>1000</th>\n",
       "      <td>Assembly;Bash/Shell (all shells);C++;HTML/CSS;...</td>\n",
       "      <td>United Kingdom of Great Britain and Northern I...</td>\n",
       "    </tr>\n",
       "    <tr>\n",
       "      <th>5721</th>\n",
       "      <td>C;Go;JavaScript;Lua;Python;Rust</td>\n",
       "      <td>United Kingdom of Great Britain and Northern I...</td>\n",
       "    </tr>\n",
       "    <tr>\n",
       "      <th>6284</th>\n",
       "      <td>Bash/Shell (all shells);Go;HTML/CSS;Java;JavaS...</td>\n",
       "      <td>United Kingdom of Great Britain and Northern I...</td>\n",
       "    </tr>\n",
       "    <tr>\n",
       "      <th>6851</th>\n",
       "      <td>Flow;Java;JavaScript;PHP;Python;SQL;TypeScript</td>\n",
       "      <td>United Kingdom of Great Britain and Northern I...</td>\n",
       "    </tr>\n",
       "    <tr>\n",
       "      <th>...</th>\n",
       "      <td>...</td>\n",
       "      <td>...</td>\n",
       "    </tr>\n",
       "    <tr>\n",
       "      <th>75407</th>\n",
       "      <td>C;Go;HTML/CSS;Java;JavaScript;Python;SQL</td>\n",
       "      <td>United Kingdom of Great Britain and Northern I...</td>\n",
       "    </tr>\n",
       "    <tr>\n",
       "      <th>77562</th>\n",
       "      <td>Bash/Shell (all shells);Python</td>\n",
       "      <td>United Kingdom of Great Britain and Northern I...</td>\n",
       "    </tr>\n",
       "    <tr>\n",
       "      <th>77943</th>\n",
       "      <td>C#;JavaScript;Python;R</td>\n",
       "      <td>United Kingdom of Great Britain and Northern I...</td>\n",
       "    </tr>\n",
       "    <tr>\n",
       "      <th>82699</th>\n",
       "      <td>Python;SQL</td>\n",
       "      <td>United Kingdom of Great Britain and Northern I...</td>\n",
       "    </tr>\n",
       "    <tr>\n",
       "      <th>85598</th>\n",
       "      <td>C#;HTML/CSS;JavaScript;Python;SQL;TypeScript</td>\n",
       "      <td>United Kingdom of Great Britain and Northern I...</td>\n",
       "    </tr>\n",
       "  </tbody>\n",
       "</table>\n",
       "<p>90 rows × 2 columns</p>\n",
       "</div>"
      ],
      "text/plain": [
       "                                  LanguageHaveWorkedWith  \\\n",
       "248    Bash/Shell (all shells);Go;HTML/CSS;JavaScript...   \n",
       "1000   Assembly;Bash/Shell (all shells);C++;HTML/CSS;...   \n",
       "5721                     C;Go;JavaScript;Lua;Python;Rust   \n",
       "6284   Bash/Shell (all shells);Go;HTML/CSS;Java;JavaS...   \n",
       "6851      Flow;Java;JavaScript;PHP;Python;SQL;TypeScript   \n",
       "...                                                  ...   \n",
       "75407           C;Go;HTML/CSS;Java;JavaScript;Python;SQL   \n",
       "77562                     Bash/Shell (all shells);Python   \n",
       "77943                             C#;JavaScript;Python;R   \n",
       "82699                                         Python;SQL   \n",
       "85598       C#;HTML/CSS;JavaScript;Python;SQL;TypeScript   \n",
       "\n",
       "                                                 Country  \n",
       "248    United Kingdom of Great Britain and Northern I...  \n",
       "1000   United Kingdom of Great Britain and Northern I...  \n",
       "5721   United Kingdom of Great Britain and Northern I...  \n",
       "6284   United Kingdom of Great Britain and Northern I...  \n",
       "6851   United Kingdom of Great Britain and Northern I...  \n",
       "...                                                  ...  \n",
       "75407  United Kingdom of Great Britain and Northern I...  \n",
       "77562  United Kingdom of Great Britain and Northern I...  \n",
       "77943  United Kingdom of Great Britain and Northern I...  \n",
       "82699  United Kingdom of Great Britain and Northern I...  \n",
       "85598  United Kingdom of Great Britain and Northern I...  \n",
       "\n",
       "[90 rows x 2 columns]"
      ]
     },
     "execution_count": 10,
     "metadata": {},
     "output_type": "execute_result"
    }
   ],
   "source": [
    "df.loc[high_salary, [\"LanguageHaveWorkedWith\", \"Country\"]][lan_filter][country_filter]"
   ]
  },
  {
   "cell_type": "code",
   "execution_count": 11,
   "metadata": {},
   "outputs": [
    {
     "data": {
      "text/plain": [
       "0           18-24 YEARS OLD\n",
       "1           25-34 YEARS OLD\n",
       "2           45-54 YEARS OLD\n",
       "3           25-34 YEARS OLD\n",
       "4           25-34 YEARS OLD\n",
       "                ...        \n",
       "89179       25-34 YEARS OLD\n",
       "89180       18-24 YEARS OLD\n",
       "89181     PREFER NOT TO SAY\n",
       "89182    UNDER 18 YEARS OLD\n",
       "89183       35-44 YEARS OLD\n",
       "Name: Age, Length: 89184, dtype: object"
      ]
     },
     "execution_count": 11,
     "metadata": {},
     "output_type": "execute_result"
    }
   ],
   "source": [
    "df['Age'].apply(str.upper)"
   ]
  },
  {
   "cell_type": "code",
   "execution_count": 12,
   "metadata": {},
   "outputs": [
    {
     "data": {
      "text/plain": [
       "0           18-24 years old\n",
       "1           25-34 years old\n",
       "2           45-54 years old\n",
       "3           25-34 years old\n",
       "4           25-34 years old\n",
       "                ...        \n",
       "89179       25-34 years old\n",
       "89180       18-24 years old\n",
       "89181     prefer not to say\n",
       "89182    under 18 years old\n",
       "89183       35-44 years old\n",
       "Name: Age, Length: 89184, dtype: object"
      ]
     },
     "execution_count": 12,
     "metadata": {},
     "output_type": "execute_result"
    }
   ],
   "source": [
    "df[\"Age\"].apply(lambda x: x.lower())"
   ]
  },
  {
   "cell_type": "markdown",
   "metadata": {},
   "source": [
    "### Proper Analysis"
   ]
  },
  {
   "cell_type": "code",
   "execution_count": 13,
   "metadata": {},
   "outputs": [
    {
     "data": {
      "text/html": [
       "<div>\n",
       "<style scoped>\n",
       "    .dataframe tbody tr th:only-of-type {\n",
       "        vertical-align: middle;\n",
       "    }\n",
       "\n",
       "    .dataframe tbody tr th {\n",
       "        vertical-align: top;\n",
       "    }\n",
       "\n",
       "    .dataframe thead th {\n",
       "        text-align: right;\n",
       "    }\n",
       "</style>\n",
       "<table border=\"1\" class=\"dataframe\">\n",
       "  <thead>\n",
       "    <tr style=\"text-align: right;\">\n",
       "      <th></th>\n",
       "      <th>Age</th>\n",
       "      <th>EdLevel</th>\n",
       "      <th>Country</th>\n",
       "      <th>ProgrammingLanguages</th>\n",
       "      <th>UsedPlatform</th>\n",
       "      <th>WorkExp</th>\n",
       "      <th>OrgSize</th>\n",
       "      <th>Industry</th>\n",
       "      <th>UsedTools</th>\n",
       "      <th>AnnualSalary($)</th>\n",
       "    </tr>\n",
       "  </thead>\n",
       "  <tbody>\n",
       "    <tr>\n",
       "      <th>0</th>\n",
       "      <td>18-24</td>\n",
       "      <td>NaN</td>\n",
       "      <td>NaN</td>\n",
       "      <td>NaN</td>\n",
       "      <td>NaN</td>\n",
       "      <td>NaN</td>\n",
       "      <td>NaN</td>\n",
       "      <td>NaN</td>\n",
       "      <td>NaN</td>\n",
       "      <td>NaN</td>\n",
       "    </tr>\n",
       "    <tr>\n",
       "      <th>1</th>\n",
       "      <td>25-34</td>\n",
       "      <td>Bachelor’s degree (B.A., B.S., B.Eng., etc.)</td>\n",
       "      <td>United States of America</td>\n",
       "      <td>HTML/CSS;JavaScript;Python</td>\n",
       "      <td>Amazon Web Services (AWS);Netlify;Vercel</td>\n",
       "      <td>10.0</td>\n",
       "      <td>2 to 9 employees</td>\n",
       "      <td>Information Services, IT, Software Development...</td>\n",
       "      <td>Docker;Kubernetes;npm;Pip;Vite;Webpack;Yarn</td>\n",
       "      <td>285000.0</td>\n",
       "    </tr>\n",
       "  </tbody>\n",
       "</table>\n",
       "</div>"
      ],
      "text/plain": [
       "      Age                                       EdLevel  \\\n",
       "0  18-24                                            NaN   \n",
       "1  25-34   Bachelor’s degree (B.A., B.S., B.Eng., etc.)   \n",
       "\n",
       "                    Country        ProgrammingLanguages  \\\n",
       "0                       NaN                         NaN   \n",
       "1  United States of America  HTML/CSS;JavaScript;Python   \n",
       "\n",
       "                               UsedPlatform  WorkExp           OrgSize  \\\n",
       "0                                       NaN      NaN               NaN   \n",
       "1  Amazon Web Services (AWS);Netlify;Vercel     10.0  2 to 9 employees   \n",
       "\n",
       "                                            Industry  \\\n",
       "0                                                NaN   \n",
       "1  Information Services, IT, Software Development...   \n",
       "\n",
       "                                     UsedTools  AnnualSalary($)  \n",
       "0                                          NaN              NaN  \n",
       "1  Docker;Kubernetes;npm;Pip;Vite;Webpack;Yarn         285000.0  "
      ]
     },
     "execution_count": 13,
     "metadata": {},
     "output_type": "execute_result"
    }
   ],
   "source": [
    "cols = [\"Age\", \"EdLevel\", \"Country\", \"LanguageHaveWorkedWith\", 'PlatformHaveWorkedWith',\n",
    "        'WorkExp', 'OrgSize', 'Industry', 'ToolsTechHaveWorkedWith', 'ConvertedCompYearly']\n",
    "data = df.loc[:, cols]\n",
    "data.rename(columns={\"LanguageHaveWorkedWith\":\"ProgrammingLanguages\",\n",
    "                     \"PlatformHaveWorkedWith\":\"UsedPlatform\",\n",
    "                     \"ToolsTechHaveWorkedWith\":\"UsedTools\",\n",
    "                     \"ConvertedCompYearly\":\"AnnualSalary($)\"}, inplace=True)\n",
    "data[\"Age\"] = data[\"Age\"].str.replace(\"years old\", \"\")\n",
    "data.head(2)"
   ]
  },
  {
   "cell_type": "code",
   "execution_count": 14,
   "metadata": {},
   "outputs": [],
   "source": [
    "data.dropna(subset=[\"ProgrammingLanguages\", \"AnnualSalary($)\"], inplace=True)"
   ]
  },
  {
   "cell_type": "code",
   "execution_count": 15,
   "metadata": {},
   "outputs": [],
   "source": [
    "# Extracting all skills\n",
    "def flatten(xss):\n",
    "    return [x for xs in xss for x in xs]\n",
    "\n",
    "skills_lists = set(data['ProgrammingLanguages'])\n",
    "languages = []\n",
    "for i in skills_lists:\n",
    "    if type(i) == str:\n",
    "        languages.append(i.split(';'))\n",
    "\n",
    "skills = list(set(flatten(languages)))\n",
    "\n",
    "for index, skill in enumerate(skills):\n",
    "    if len(skill) > 1:\n",
    "        stop = skill.find(\"(\")\n",
    "        if stop > 0:\n",
    "            skills[index] = skill[0:stop].strip()\n",
    "        if skill == 'C++':\n",
    "            skills[index] = 'C+'"
   ]
  },
  {
   "cell_type": "code",
   "execution_count": 16,
   "metadata": {},
   "outputs": [
    {
     "name": "stdout",
     "output_type": "stream",
     "text": [
      "[('OCaml', 111), ('Ruby', 1706), ('MATLAB', 348), ('Julia', 142), ('C+', 11643), ('Clojure', 320), ('Dart', 566), ('SQL', 8473), ('Lua', 866), ('Flow', 53), ('Groovy', 824), ('Delphi', 393), ('Swift', 947), ('F#', 249), ('C#', 4527), ('JavaScript', 10215), ('Apex', 117), ('PHP', 1918), ('Bash/Shell', 6676), ('Haskell', 277), ('SAS', 76), ('APL', 24), ('Perl', 538), ('Crystal', 76), ('R', 4167), ('HTML/CSS', 7741), ('C', 11643), ('Fortran', 137), ('Kotlin', 1535), ('GDScript', 171), ('Cobol', 83), ('Scala', 739), ('Python', 7963), ('PowerShell', 2562), ('Lisp', 261), ('TypeScript', 7305), ('VBA', 439), ('Assembly', 574), ('Java', 11537), ('Solidity', 205), ('Ada', 83), ('Go', 3112), ('Zig', 142), ('Nim', 48), ('Erlang', 255), ('Rust', 2300), ('Prolog', 75), ('Raku', 24), ('Visual Basic', 502), ('Objective-C', 518), ('Elixir', 608)]\n"
     ]
    }
   ],
   "source": [
    "skills_entries = []\n",
    "for i in skills:\n",
    "    skills_entries.append((i, len(data[(data['ProgrammingLanguages'].str.contains(i, na=False)) & (data[\"AnnualSalary($)\"] > 100000)])))\n",
    "\n",
    "print(skills_entries)"
   ]
  },
  {
   "cell_type": "code",
   "execution_count": 17,
   "metadata": {},
   "outputs": [],
   "source": [
    "sorted_skills = sorted(skills_entries, key=lambda x: x[1])\n",
    "sorted_skills\n",
    "# Skills data analysis\n",
    "y = [(v[1]/data.shape[0])*100 for i, v in enumerate(sorted_skills[-11:-1])]\n",
    "x = [v[0] for i, v in enumerate(sorted_skills[-11:-1])]"
   ]
  },
  {
   "cell_type": "code",
   "execution_count": 18,
   "metadata": {},
   "outputs": [
    {
     "data": {
      "image/png": "[encoded data removed]",
      "text/plain": [
       "<Figure size 640x480 with 1 Axes>"
      ]
     },
     "metadata": {},
     "output_type": "display_data"
    }
   ],
   "source": [
    "import matplotlib.pyplot as plt\n",
    "import matplotlib.cm as cm\n",
    "import numpy as np\n",
    "bar_colors = ['tab:red', 'tab:blue', 'tab:red', 'tab:orange']\n",
    "colors = cm.rainbow(np.linspace(0.3, 1, len(y)))\n",
    "plt.bar(x, y)\n",
    "plt.xticks(rotation=30)\n",
    "plt.xlabel(\"Skill\")\n",
    "plt.ylabel(\"(%)\")\n",
    "plt.title(\"Top 10 used skills\")\n",
    "plt.show()"
   ]
  },
  {
   "cell_type": "code",
   "execution_count": 89,
   "metadata": {},
   "outputs": [
    {
     "name": "stdout",
     "output_type": "stream",
     "text": [
      "[('United States of America', 11852), ('Philippines', 134), ('United Kingdom of Great Britain and Northern Ireland', 3536), ('Finland', 440), ('Australia', 1209), ('Netherlands', 1360), ('Germany', 3969), ('Sweden', 1054), ('France', 1798), ('Albania', 20), ('Nigeria', 127), ('Spain', 1143), ('South Africa', 348), ('Brazil', 1248), ('Portugal', 474), ('Italy', 1007), ('Bangladesh', 159), ('Canada', 2099), ('Argentina', 275), ('Switzerland', 661), ('Sri Lanka', 90), ('Lithuania', 184), ('Serbia', 204), ('Cyprus', 43), ('India', 1860), ('Egypt', 77), ('Latvia', 98), ('Russian Federation', 424), ('Greece', 335), ('Austria', 526), ('Norway', 486), ('Singapore', 139), ('Turkey', 394), ('Croatia', 161), ('Poland', 1264), ('Iran, Islamic Republic of...', 221), ('Kosovo', 9), ('Nepal', 72), ('Slovenia', 172), ('China', 167), ('Belgium', 443), ('Romania', 407), ('Denmark', 515), ('Hungary', 306), ('Republic of Korea', 38), ('Viet Nam', 113), ('Israel', 467), ('Ukraine', 418), ('Nomadic', 17), ('Dominican Republic', 37), ('Isle of Man', 10), ('Estonia', 143), ('Morocco', 41), ('The former Yugoslav Republic of Macedonia', 28), ('Uzbekistan', 19), ('Luxembourg', 44), ('Indonesia', 166), ('Ireland', 285), ('Georgia', 101), ('Benin', 7), ('Japan', 193), ('Venezuela, Bolivarian Republic of...', 54), ('Bahrain', 5), ('Tajikistan', 1), ('Czech Republic', 491), ('Malta', 26), ('Belarus', 44), ('Oman', 5), ('Montenegro', 26), ('Bosnia and Herzegovina', 47), ('Zimbabwe', 10), ('Armenia', 57), ('Malaysia', 120), ('Saudi Arabia', 32), ('Tunisia', 36), ('Kenya', 70), ('United Arab Emirates', 84), ('Afghanistan', 10), ('Pakistan', 251), ('Djibouti', 2), ('Ethiopia', 26), ('Paraguay', 24), ('New Zealand', 413), ('Panama', 11), ('Zambia', 10), ('Andorra', 5), ('Nicaragua', 20), ('Jordan', 28), ('Slovakia', 179), ('Bulgaria', 238), ('Uruguay', 75), ('Peru', 70), ('Trinidad and Tobago', 6), ('Hong Kong (S.A.R.)', 83), ('Thailand', 102), ('Ecuador', 48), ('Colombia', 278), ('Mexico', 330), ('Republic of Moldova', 21), ('Guatemala', 31), ('Mongolia', 15), ('El Salvador', 22), ('Chile', 138), ('Cuba', 17), ('Kazakhstan', 43), ('Azerbaijan', 19), ('Bolivia', 22), ('Iceland', 29), ('Algeria', 21), ('Syrian Arab Republic', 13), ('Somalia', 7), ('Jamaica', 9), (\"Côte d'Ivoire\", 6), ('Myanmar', 17), ('Honduras', 13), ('Yemen', 6), ('Iraq', 14), ('Qatar', 4), (\"Lao People's Democratic Republic\", 1), ('Costa Rica', 58), ('Lebanon', 24), ('South Korea', 79), ('Ghana', 23), ('Fiji', 2), ('Taiwan', 94), ('Mauritius', 14), ('Maldives', 7), ('Kuwait', 6), ('Cambodia', 12), ('Brunei Darussalam', 2), ('Kyrgyzstan', 12), ('Turkmenistan', 3), ('Uganda', 19), ('Palestine', 11), ('Madagascar', 6), ('United Republic of Tanzania', 16), ('Cameroon', 6), ('Mozambique', 4), ('Barbados', 2), ('Gabon', 1), ('Mali', 4), ('Guinea-Bissau', 1), ('Palau', 2), ('Malawi', 3), ('Senegal', 4), ('Belize', 2), ('Togo', 3), ('Guyana', 1), ('Angola', 2), ('Sierra Leone', 1), ('Namibia', 2), ('Botswana', 1), ('Rwanda', 8), ('Mauritania', 1), ('Saint Lucia', 2), ('Monaco', 2), ('Swaziland', 4), ('Lesotho', 1), ('Niger', 2), ('Dominica', 1), ('Liechtenstein', 1), ('Saint Kitts and Nevis', 1), ('Suriname', 2), ('Burundi', 1), ('Cape Verde', 1), ('Sudan', 1), ('Guinea', 1), ('Saint Vincent and the Grenadines', 1), ('Libyan Arab Jamahiriya', 2), ('Burkina Faso', 1), ('Antigua and Barbuda', 1)]\n"
     ]
    }
   ],
   "source": [
    "countries_list = list(data['Country'].unique())\n",
    "number_per_country = []\n",
    "for country in countries_list:\n",
    "    result = data[(data['Country'] == country)]\n",
    "    number_per_country.append((country, result.shape[0]))\n",
    "\n",
    "print(number_per_country)"
   ]
  },
  {
   "cell_type": "code",
   "execution_count": 124,
   "metadata": {},
   "outputs": [],
   "source": [
    "c = []\n",
    "n = []\n",
    "for i in number_per_country:\n",
    "    c.append(i[0])\n",
    "    n.append(i[1])\n",
    "\n",
    "df = pd.DataFrame({'Country': c,\n",
    "                   'Entries': n})"
   ]
  },
  {
   "cell_type": "code",
   "execution_count": 172,
   "metadata": {},
   "outputs": [],
   "source": [
    "df.at[2, 'Country'] = 'United Kingdom'\n",
    "df.at[df[df['Country'] == 'Iran, Islamic Republic of...'].index[0], 'Country'] = 'Iran'"
   ]
  },
  {
   "cell_type": "code",
   "execution_count": 175,
   "metadata": {},
   "outputs": [
    {
     "data": {
      "text/html": [
       "<div>\n",
       "<style scoped>\n",
       "    .dataframe tbody tr th:only-of-type {\n",
       "        vertical-align: middle;\n",
       "    }\n",
       "\n",
       "    .dataframe tbody tr th {\n",
       "        vertical-align: top;\n",
       "    }\n",
       "\n",
       "    .dataframe thead th {\n",
       "        text-align: right;\n",
       "    }\n",
       "</style>\n",
       "<table border=\"1\" class=\"dataframe\">\n",
       "  <thead>\n",
       "    <tr style=\"text-align: right;\">\n",
       "      <th></th>\n",
       "      <th>Country</th>\n",
       "      <th>Entries</th>\n",
       "    </tr>\n",
       "  </thead>\n",
       "  <tbody>\n",
       "    <tr>\n",
       "      <th>35</th>\n",
       "      <td>Iran</td>\n",
       "      <td>221</td>\n",
       "    </tr>\n",
       "  </tbody>\n",
       "</table>\n",
       "</div>"
      ],
      "text/plain": [
       "   Country  Entries\n",
       "35    Iran      221"
      ]
     },
     "execution_count": 175,
     "metadata": {},
     "output_type": "execute_result"
    }
   ],
   "source": [
    "df[df['Country'] == 'Iran']"
   ]
  },
  {
   "cell_type": "code",
   "execution_count": 176,
   "metadata": {},
   "outputs": [
    {
     "name": "stderr",
     "output_type": "stream",
     "text": [
      "/tmp/ipykernel_11931/741101455.py:2: FutureWarning: The geopandas.dataset module is deprecated and will be removed in GeoPandas 1.0. You can get the original 'naturalearth_lowres' data from https://www.naturalearthdata.com/downloads/110m-cultural-vectors/.\n",
      "  world_filepath = gpd.datasets.get_path('naturalearth_lowres')\n"
     ]
    },
    {
     "data": {
      "text/plain": [
       "(177, 6)"
      ]
     },
     "execution_count": 176,
     "metadata": {},
     "output_type": "execute_result"
    }
   ],
   "source": [
    "import geopandas as gpd\n",
    "world_filepath = gpd.datasets.get_path('naturalearth_lowres')\n",
    "world = gpd.read_file(world_filepath)\n",
    "world.rename(columns={'name' : 'Country'}, inplace=True)\n",
    "world.shape"
   ]
  },
  {
   "cell_type": "code",
   "execution_count": 182,
   "metadata": {},
   "outputs": [],
   "source": [
    "outer_merge = pd.merge(df, world, how='outer', on=['Country'])\n",
    "outer_merge.dropna(subset=['Entries'], inplace=True)"
   ]
  },
  {
   "cell_type": "code",
   "execution_count": 183,
   "metadata": {},
   "outputs": [
    {
     "data": {
      "text/html": [
       "<div>\n",
       "<style scoped>\n",
       "    .dataframe tbody tr th:only-of-type {\n",
       "        vertical-align: middle;\n",
       "    }\n",
       "\n",
       "    .dataframe tbody tr th {\n",
       "        vertical-align: top;\n",
       "    }\n",
       "\n",
       "    .dataframe thead th {\n",
       "        text-align: right;\n",
       "    }\n",
       "</style>\n",
       "<table border=\"1\" class=\"dataframe\">\n",
       "  <thead>\n",
       "    <tr style=\"text-align: right;\">\n",
       "      <th></th>\n",
       "      <th>Country</th>\n",
       "      <th>Entries</th>\n",
       "      <th>pop_est</th>\n",
       "      <th>continent</th>\n",
       "      <th>iso_a3</th>\n",
       "      <th>gdp_md_est</th>\n",
       "      <th>geometry</th>\n",
       "    </tr>\n",
       "  </thead>\n",
       "  <tbody>\n",
       "    <tr>\n",
       "      <th>0</th>\n",
       "      <td>United States of America</td>\n",
       "      <td>11852.0</td>\n",
       "      <td>328239523.0</td>\n",
       "      <td>North America</td>\n",
       "      <td>USA</td>\n",
       "      <td>21433226.0</td>\n",
       "      <td>MULTIPOLYGON (((-122.84000 49.00000, -120.0000...</td>\n",
       "    </tr>\n",
       "    <tr>\n",
       "      <th>1</th>\n",
       "      <td>Philippines</td>\n",
       "      <td>134.0</td>\n",
       "      <td>108116615.0</td>\n",
       "      <td>Asia</td>\n",
       "      <td>PHL</td>\n",
       "      <td>376795.0</td>\n",
       "      <td>MULTIPOLYGON (((120.83390 12.70450, 120.32344 ...</td>\n",
       "    </tr>\n",
       "    <tr>\n",
       "      <th>2</th>\n",
       "      <td>United Kingdom</td>\n",
       "      <td>3536.0</td>\n",
       "      <td>66834405.0</td>\n",
       "      <td>Europe</td>\n",
       "      <td>GBR</td>\n",
       "      <td>2829108.0</td>\n",
       "      <td>MULTIPOLYGON (((-6.19788 53.86757, -6.95373 54...</td>\n",
       "    </tr>\n",
       "    <tr>\n",
       "      <th>3</th>\n",
       "      <td>Finland</td>\n",
       "      <td>440.0</td>\n",
       "      <td>5520314.0</td>\n",
       "      <td>Europe</td>\n",
       "      <td>FIN</td>\n",
       "      <td>269296.0</td>\n",
       "      <td>POLYGON ((28.59193 69.06478, 28.44594 68.36461...</td>\n",
       "    </tr>\n",
       "    <tr>\n",
       "      <th>4</th>\n",
       "      <td>Australia</td>\n",
       "      <td>1209.0</td>\n",
       "      <td>25364307.0</td>\n",
       "      <td>Oceania</td>\n",
       "      <td>AUS</td>\n",
       "      <td>1396567.0</td>\n",
       "      <td>MULTIPOLYGON (((147.68926 -40.80826, 148.28907...</td>\n",
       "    </tr>\n",
       "    <tr>\n",
       "      <th>...</th>\n",
       "      <td>...</td>\n",
       "      <td>...</td>\n",
       "      <td>...</td>\n",
       "      <td>...</td>\n",
       "      <td>...</td>\n",
       "      <td>...</td>\n",
       "      <td>...</td>\n",
       "    </tr>\n",
       "    <tr>\n",
       "      <th>166</th>\n",
       "      <td>Guinea</td>\n",
       "      <td>1.0</td>\n",
       "      <td>12771246.0</td>\n",
       "      <td>Africa</td>\n",
       "      <td>GIN</td>\n",
       "      <td>12296.0</td>\n",
       "      <td>POLYGON ((-13.70048 12.58618, -13.21782 12.575...</td>\n",
       "    </tr>\n",
       "    <tr>\n",
       "      <th>167</th>\n",
       "      <td>Saint Vincent and the Grenadines</td>\n",
       "      <td>1.0</td>\n",
       "      <td>NaN</td>\n",
       "      <td>NaN</td>\n",
       "      <td>NaN</td>\n",
       "      <td>NaN</td>\n",
       "      <td>None</td>\n",
       "    </tr>\n",
       "    <tr>\n",
       "      <th>168</th>\n",
       "      <td>Libya</td>\n",
       "      <td>2.0</td>\n",
       "      <td>6777452.0</td>\n",
       "      <td>Africa</td>\n",
       "      <td>LBY</td>\n",
       "      <td>52091.0</td>\n",
       "      <td>POLYGON ((25.00000 22.00000, 25.00000 20.00304...</td>\n",
       "    </tr>\n",
       "    <tr>\n",
       "      <th>169</th>\n",
       "      <td>Burkina Faso</td>\n",
       "      <td>1.0</td>\n",
       "      <td>20321378.0</td>\n",
       "      <td>Africa</td>\n",
       "      <td>BFA</td>\n",
       "      <td>15990.0</td>\n",
       "      <td>POLYGON ((-5.40434 10.37074, -5.47056 10.95127...</td>\n",
       "    </tr>\n",
       "    <tr>\n",
       "      <th>170</th>\n",
       "      <td>Antigua and Barbuda</td>\n",
       "      <td>1.0</td>\n",
       "      <td>NaN</td>\n",
       "      <td>NaN</td>\n",
       "      <td>NaN</td>\n",
       "      <td>NaN</td>\n",
       "      <td>None</td>\n",
       "    </tr>\n",
       "  </tbody>\n",
       "</table>\n",
       "<p>171 rows × 7 columns</p>\n",
       "</div>"
      ],
      "text/plain": [
       "                              Country  Entries      pop_est      continent  \\\n",
       "0            United States of America  11852.0  328239523.0  North America   \n",
       "1                         Philippines    134.0  108116615.0           Asia   \n",
       "2                      United Kingdom   3536.0   66834405.0         Europe   \n",
       "3                             Finland    440.0    5520314.0         Europe   \n",
       "4                           Australia   1209.0   25364307.0        Oceania   \n",
       "..                                ...      ...          ...            ...   \n",
       "166                            Guinea      1.0   12771246.0         Africa   \n",
       "167  Saint Vincent and the Grenadines      1.0          NaN            NaN   \n",
       "168                             Libya      2.0    6777452.0         Africa   \n",
       "169                      Burkina Faso      1.0   20321378.0         Africa   \n",
       "170               Antigua and Barbuda      1.0          NaN            NaN   \n",
       "\n",
       "    iso_a3  gdp_md_est                                           geometry  \n",
       "0      USA  21433226.0  MULTIPOLYGON (((-122.84000 49.00000, -120.0000...  \n",
       "1      PHL    376795.0  MULTIPOLYGON (((120.83390 12.70450, 120.32344 ...  \n",
       "2      GBR   2829108.0  MULTIPOLYGON (((-6.19788 53.86757, -6.95373 54...  \n",
       "3      FIN    269296.0  POLYGON ((28.59193 69.06478, 28.44594 68.36461...  \n",
       "4      AUS   1396567.0  MULTIPOLYGON (((147.68926 -40.80826, 148.28907...  \n",
       "..     ...         ...                                                ...  \n",
       "166    GIN     12296.0  POLYGON ((-13.70048 12.58618, -13.21782 12.575...  \n",
       "167    NaN         NaN                                               None  \n",
       "168    LBY     52091.0  POLYGON ((25.00000 22.00000, 25.00000 20.00304...  \n",
       "169    BFA     15990.0  POLYGON ((-5.40434 10.37074, -5.47056 10.95127...  \n",
       "170    NaN         NaN                                               None  \n",
       "\n",
       "[171 rows x 7 columns]"
      ]
     },
     "execution_count": 183,
     "metadata": {},
     "output_type": "execute_result"
    }
   ],
   "source": [
    "outer_merge"
   ]
  },
  {
   "cell_type": "code",
   "execution_count": 191,
   "metadata": {},
   "outputs": [
    {
     "data": {
      "application/vnd.plotly.v1+json": {
       "config": {
        "plotlyServerURL": "https://plot.ly"
       },
       "data": [
        {
         "coloraxis": "coloraxis",
         "geo": "geo",
         "hovertemplate": "<b>%{hovertext}</b><br><br>Country=%{location}<br>Entries=%{z}<extra></extra>",
         "hovertext": [
          "United States of America",
          "Philippines",
          "United Kingdom",
          "Finland",
          "Australia",
          "Netherlands",
          "Germany",
          "Sweden",
          "France",
          "Albania",
          "Nigeria",
          "Spain",
          "South Africa",
          "Brazil",
          "Portugal",
          "Italy",
          "Bangladesh",
          "Canada",
          "Argentina",
          "Switzerland",
          "Sri Lanka",
          "Lithuania",
          "Serbia",
          "Cyprus",
          "India",
          "Egypt",
          "Latvia",
          "Russia",
          "Greece",
          "Austria",
          "Norway",
          "Singapore",
          "Turkey",
          "Croatia",
          "Poland",
          "Iran",
          "Kosovo",
          "Nepal",
          "Slovenia",
          "China",
          "Belgium",
          "Romania",
          "Denmark",
          "Hungary",
          "Republic of Korea",
          "Viet Nam",
          "Israel",
          "Ukraine",
          "Nomadic",
          "Dominican Republic",
          "Isle of Man",
          "Estonia",
          "Morocco",
          "The former Yugoslav Republic of Macedonia",
          "Uzbekistan",
          "Luxembourg",
          "Indonesia",
          "Ireland",
          "Georgia",
          "Benin",
          "Japan",
          "Venezuela, Bolivarian Republic of...",
          "Bahrain",
          "Tajikistan",
          "Czech Republic",
          "Malta",
          "Belarus",
          "Oman",
          "Montenegro",
          "Bosnia and Herzegovina",
          "Zimbabwe",
          "Armenia",
          "Malaysia",
          "Saudi Arabia",
          "Tunisia",
          "Kenya",
          "United Arab Emirates",
          "Afghanistan",
          "Pakistan",
          "Djibouti",
          "Ethiopia",
          "Paraguay",
          "New Zealand",
          "Panama",
          "Zambia",
          "Andorra",
          "Nicaragua",
          "Jordan",
          "Slovakia",
          "Bulgaria",
          "Uruguay",
          "Peru",
          "Trinidad and Tobago",
          "Hong Kong (S.A.R.)",
          "Thailand",
          "Ecuador",
          "Colombia",
          "Mexico",
          "Republic of Moldova",
          "Guatemala",
          "Mongolia",
          "El Salvador",
          "Chile",
          "Cuba",
          "Kazakhstan",
          "Azerbaijan",
          "Bolivia",
          "Iceland",
          "Algeria",
          "Syria",
          "Somalia",
          "Jamaica",
          "Côte d'Ivoire",
          "Myanmar",
          "Honduras",
          "Yemen",
          "Iraq",
          "Qatar",
          "Lao People's Democratic Republic",
          "Costa Rica",
          "Lebanon",
          "South Korea",
          "Ghana",
          "Fiji",
          "Taiwan",
          "Mauritius",
          "Maldives",
          "Kuwait",
          "Cambodia",
          "Brunei Darussalam",
          "Kyrgyzstan",
          "Turkmenistan",
          "Uganda",
          "Palestine",
          "Madagascar",
          "Tanzania",
          "Cameroon",
          "Mozambique",
          "Barbados",
          "Gabon",
          "Mali",
          "Guinea-Bissau",
          "Palau",
          "Malawi",
          "Senegal",
          "Belize",
          "Togo",
          "Guyana",
          "Angola",
          "Sierra Leone",
          "Namibia",
          "Botswana",
          "Rwanda",
          "Mauritania",
          "Saint Lucia",
          "Monaco",
          "Swaziland",
          "Lesotho",
          "Niger",
          "Dominica",
          "Liechtenstein",
          "Saint Kitts and Nevis",
          "Suriname",
          "Burundi",
          "Cape Verde",
          "Sudan",
          "Guinea",
          "Saint Vincent and the Grenadines",
          "Libya",
          "Burkina Faso",
          "Antigua and Barbuda"
         ],
         "locations": [
          "United States of America",
          "Philippines",
          "United Kingdom",
          "Finland",
          "Australia",
          "Netherlands",
          "Germany",
          "Sweden",
          "France",
          "Albania",
          "Nigeria",
          "Spain",
          "South Africa",
          "Brazil",
          "Portugal",
          "Italy",
          "Bangladesh",
          "Canada",
          "Argentina",
          "Switzerland",
          "Sri Lanka",
          "Lithuania",
          "Serbia",
          "Cyprus",
          "India",
          "Egypt",
          "Latvia",
          "Russia",
          "Greece",
          "Austria",
          "Norway",
          "Singapore",
          "Turkey",
          "Croatia",
          "Poland",
          "Iran",
          "Kosovo",
          "Nepal",
          "Slovenia",
          "China",
          "Belgium",
          "Romania",
          "Denmark",
          "Hungary",
          "Republic of Korea",
          "Viet Nam",
          "Israel",
          "Ukraine",
          "Nomadic",
          "Dominican Republic",
          "Isle of Man",
          "Estonia",
          "Morocco",
          "The former Yugoslav Republic of Macedonia",
          "Uzbekistan",
          "Luxembourg",
          "Indonesia",
          "Ireland",
          "Georgia",
          "Benin",
          "Japan",
          "Venezuela, Bolivarian Republic of...",
          "Bahrain",
          "Tajikistan",
          "Czech Republic",
          "Malta",
          "Belarus",
          "Oman",
          "Montenegro",
          "Bosnia and Herzegovina",
          "Zimbabwe",
          "Armenia",
          "Malaysia",
          "Saudi Arabia",
          "Tunisia",
          "Kenya",
          "United Arab Emirates",
          "Afghanistan",
          "Pakistan",
          "Djibouti",
          "Ethiopia",
          "Paraguay",
          "New Zealand",
          "Panama",
          "Zambia",
          "Andorra",
          "Nicaragua",
          "Jordan",
          "Slovakia",
          "Bulgaria",
          "Uruguay",
          "Peru",
          "Trinidad and Tobago",
          "Hong Kong (S.A.R.)",
          "Thailand",
          "Ecuador",
          "Colombia",
          "Mexico",
          "Republic of Moldova",
          "Guatemala",
          "Mongolia",
          "El Salvador",
          "Chile",
          "Cuba",
          "Kazakhstan",
          "Azerbaijan",
          "Bolivia",
          "Iceland",
          "Algeria",
          "Syria",
          "Somalia",
          "Jamaica",
          "Côte d'Ivoire",
          "Myanmar",
          "Honduras",
          "Yemen",
          "Iraq",
          "Qatar",
          "Lao People's Democratic Republic",
          "Costa Rica",
          "Lebanon",
          "South Korea",
          "Ghana",
          "Fiji",
          "Taiwan",
          "Mauritius",
          "Maldives",
          "Kuwait",
          "Cambodia",
          "Brunei Darussalam",
          "Kyrgyzstan",
          "Turkmenistan",
          "Uganda",
          "Palestine",
          "Madagascar",
          "Tanzania",
          "Cameroon",
          "Mozambique",
          "Barbados",
          "Gabon",
          "Mali",
          "Guinea-Bissau",
          "Palau",
          "Malawi",
          "Senegal",
          "Belize",
          "Togo",
          "Guyana",
          "Angola",
          "Sierra Leone",
          "Namibia",
          "Botswana",
          "Rwanda",
          "Mauritania",
          "Saint Lucia",
          "Monaco",
          "Swaziland",
          "Lesotho",
          "Niger",
          "Dominica",
          "Liechtenstein",
          "Saint Kitts and Nevis",
          "Suriname",
          "Burundi",
          "Cape Verde",
          "Sudan",
          "Guinea",
          "Saint Vincent and the Grenadines",
          "Libya",
          "Burkina Faso",
          "Antigua and Barbuda"
         ],
         "name": "",
         "type": "choropleth",
         "z": [
          11852,
          134,
          3536,
          440,
          1209,
          1360,
          3969,
          1054,
          1798,
          20,
          127,
          1143,
          348,
          1248,
          474,
          1007,
          159,
          2099,
          275,
          661,
          90,
          184,
          204,
          43,
          1860,
          77,
          98,
          424,
          335,
          526,
          486,
          139,
          394,
          161,
          1264,
          221,
          9,
          72,
          172,
          167,
          443,
          407,
          515,
          306,
          38,
          113,
          467,
          418,
          17,
          37,
          10,
          143,
          41,
          28,
          19,
          44,
          166,
          285,
          101,
          7,
          193,
          54,
          5,
          1,
          491,
          26,
          44,
          5,
          26,
          47,
          10,
          57,
          120,
          32,
          36,
          70,
          84,
          10,
          251,
          2,
          26,
          24,
          413,
          11,
          10,
          5,
          20,
          28,
          179,
          238,
          75,
          70,
          6,
          83,
          102,
          48,
          278,
          330,
          21,
          31,
          15,
          22,
          138,
          17,
          43,
          19,
          22,
          29,
          21,
          13,
          7,
          9,
          6,
          17,
          13,
          6,
          14,
          4,
          1,
          58,
          24,
          79,
          23,
          2,
          94,
          14,
          7,
          6,
          12,
          2,
          12,
          3,
          19,
          11,
          6,
          16,
          6,
          4,
          2,
          1,
          4,
          1,
          2,
          3,
          4,
          2,
          3,
          1,
          2,
          1,
          2,
          1,
          8,
          1,
          2,
          2,
          4,
          1,
          2,
          1,
          1,
          1,
          2,
          1,
          1,
          1,
          1,
          1,
          2,
          1,
          1
         ]
        }
       ],
       "layout": {
        "coloraxis": {
         "colorbar": {
          "title": {
           "text": "Entries"
          }
         },
         "colorscale": [
          [
           0,
           "#0d0887"
          ],
          [
           0.1111111111111111,
           "#46039f"
          ],
          [
           0.2222222222222222,
           "#7201a8"
          ],
          [
           0.3333333333333333,
           "#9c179e"
          ],
          [
           0.4444444444444444,
           "#bd3786"
          ],
          [
           0.5555555555555556,
           "#d8576b"
          ],
          [
           0.6666666666666666,
           "#ed7953"
          ],
          [
           0.7777777777777778,
           "#fb9f3a"
          ],
          [
           0.8888888888888888,
           "#fdca26"
          ],
          [
           1,
           "#f0f921"
          ]
         ]
        },
        "geo": {
         "center": {},
         "domain": {
          "x": [
           0,
           1
          ],
          "y": [
           0,
           1
          ]
         }
        },
        "legend": {
         "tracegroupgap": 0
        },
        "margin": {
         "t": 60
        },
        "template": {
         "data": {
          "bar": [
           {
            "error_x": {
             "color": "#2a3f5f"
            },
            "error_y": {
             "color": "#2a3f5f"
            },
            "marker": {
             "line": {
              "color": "#E5ECF6",
              "width": 0.5
             },
             "pattern": {
              "fillmode": "overlay",
              "size": 10,
              "solidity": 0.2
             }
            },
            "type": "bar"
           }
          ],
          "barpolar": [
           {
            "marker": {
             "line": {
              "color": "#E5ECF6",
              "width": 0.5
             },
             "pattern": {
              "fillmode": "overlay",
              "size": 10,
              "solidity": 0.2
             }
            },
            "type": "barpolar"
           }
          ],
          "carpet": [
           {
            "aaxis": {
             "endlinecolor": "#2a3f5f",
             "gridcolor": "white",
             "linecolor": "white",
             "minorgridcolor": "white",
             "startlinecolor": "#2a3f5f"
            },
            "baxis": {
             "endlinecolor": "#2a3f5f",
             "gridcolor": "white",
             "linecolor": "white",
             "minorgridcolor": "white",
             "startlinecolor": "#2a3f5f"
            },
            "type": "carpet"
           }
          ],
          "choropleth": [
           {
            "colorbar": {
             "outlinewidth": 0,
             "ticks": ""
            },
            "type": "choropleth"
           }
          ],
          "contour": [
           {
            "colorbar": {
             "outlinewidth": 0,
             "ticks": ""
            },
            "colorscale": [
             [
              0,
              "#0d0887"
             ],
             [
              0.1111111111111111,
              "#46039f"
             ],
             [
              0.2222222222222222,
              "#7201a8"
             ],
             [
              0.3333333333333333,
              "#9c179e"
             ],
             [
              0.4444444444444444,
              "#bd3786"
             ],
             [
              0.5555555555555556,
              "#d8576b"
             ],
             [
              0.6666666666666666,
              "#ed7953"
             ],
             [
              0.7777777777777778,
              "#fb9f3a"
             ],
             [
              0.8888888888888888,
              "#fdca26"
             ],
             [
              1,
              "#f0f921"
             ]
            ],
            "type": "contour"
           }
          ],
          "contourcarpet": [
           {
            "colorbar": {
             "outlinewidth": 0,
             "ticks": ""
            },
            "type": "contourcarpet"
           }
          ],
          "heatmap": [
           {
            "colorbar": {
             "outlinewidth": 0,
             "ticks": ""
            },
            "colorscale": [
             [
              0,
              "#0d0887"
             ],
             [
              0.1111111111111111,
              "#46039f"
             ],
             [
              0.2222222222222222,
              "#7201a8"
             ],
             [
              0.3333333333333333,
              "#9c179e"
             ],
             [
              0.4444444444444444,
              "#bd3786"
             ],
             [
              0.5555555555555556,
              "#d8576b"
             ],
             [
              0.6666666666666666,
              "#ed7953"
             ],
             [
              0.7777777777777778,
              "#fb9f3a"
             ],
             [
              0.8888888888888888,
              "#fdca26"
             ],
             [
              1,
              "#f0f921"
             ]
            ],
            "type": "heatmap"
           }
          ],
          "heatmapgl": [
           {
            "colorbar": {
             "outlinewidth": 0,
             "ticks": ""
            },
            "colorscale": [
             [
              0,
              "#0d0887"
             ],
             [
              0.1111111111111111,
              "#46039f"
             ],
             [
              0.2222222222222222,
              "#7201a8"
             ],
             [
              0.3333333333333333,
              "#9c179e"
             ],
             [
              0.4444444444444444,
              "#bd3786"
             ],
             [
              0.5555555555555556,
              "#d8576b"
             ],
             [
              0.6666666666666666,
              "#ed7953"
             ],
             [
              0.7777777777777778,
              "#fb9f3a"
             ],
             [
              0.8888888888888888,
              "#fdca26"
             ],
             [
              1,
              "#f0f921"
             ]
            ],
            "type": "heatmapgl"
           }
          ],
          "histogram": [
           {
            "marker": {
             "pattern": {
              "fillmode": "overlay",
              "size": 10,
              "solidity": 0.2
             }
            },
            "type": "histogram"
           }
          ],
          "histogram2d": [
           {
            "colorbar": {
             "outlinewidth": 0,
             "ticks": ""
            },
            "colorscale": [
             [
              0,
              "#0d0887"
             ],
             [
              0.1111111111111111,
              "#46039f"
             ],
             [
              0.2222222222222222,
              "#7201a8"
             ],
             [
              0.3333333333333333,
              "#9c179e"
             ],
             [
              0.4444444444444444,
              "#bd3786"
             ],
             [
              0.5555555555555556,
              "#d8576b"
             ],
             [
              0.6666666666666666,
              "#ed7953"
             ],
             [
              0.7777777777777778,
              "#fb9f3a"
             ],
             [
              0.8888888888888888,
              "#fdca26"
             ],
             [
              1,
              "#f0f921"
             ]
            ],
            "type": "histogram2d"
           }
          ],
          "histogram2dcontour": [
           {
            "colorbar": {
             "outlinewidth": 0,
             "ticks": ""
            },
            "colorscale": [
             [
              0,
              "#0d0887"
             ],
             [
              0.1111111111111111,
              "#46039f"
             ],
             [
              0.2222222222222222,
              "#7201a8"
             ],
             [
              0.3333333333333333,
              "#9c179e"
             ],
             [
              0.4444444444444444,
              "#bd3786"
             ],
             [
              0.5555555555555556,
              "#d8576b"
             ],
             [
              0.6666666666666666,
              "#ed7953"
             ],
             [
              0.7777777777777778,
              "#fb9f3a"
             ],
             [
              0.8888888888888888,
              "#fdca26"
             ],
             [
              1,
              "#f0f921"
             ]
            ],
            "type": "histogram2dcontour"
           }
          ],
          "mesh3d": [
           {
            "colorbar": {
             "outlinewidth": 0,
             "ticks": ""
            },
            "type": "mesh3d"
           }
          ],
          "parcoords": [
           {
            "line": {
             "colorbar": {
              "outlinewidth": 0,
              "ticks": ""
             }
            },
            "type": "parcoords"
           }
          ],
          "pie": [
           {
            "automargin": true,
            "type": "pie"
           }
          ],
          "scatter": [
           {
            "fillpattern": {
             "fillmode": "overlay",
             "size": 10,
             "solidity": 0.2
            },
            "type": "scatter"
           }
          ],
          "scatter3d": [
           {
            "line": {
             "colorbar": {
              "outlinewidth": 0,
              "ticks": ""
             }
            },
            "marker": {
             "colorbar": {
              "outlinewidth": 0,
              "ticks": ""
             }
            },
            "type": "scatter3d"
           }
          ],
          "scattercarpet": [
           {
            "marker": {
             "colorbar": {
              "outlinewidth": 0,
              "ticks": ""
             }
            },
            "type": "scattercarpet"
           }
          ],
          "scattergeo": [
           {
            "marker": {
             "colorbar": {
              "outlinewidth": 0,
              "ticks": ""
             }
            },
            "type": "scattergeo"
           }
          ],
          "scattergl": [
           {
            "marker": {
             "colorbar": {
              "outlinewidth": 0,
              "ticks": ""
             }
            },
            "type": "scattergl"
           }
          ],
          "scattermapbox": [
           {
            "marker": {
             "colorbar": {
              "outlinewidth": 0,
              "ticks": ""
             }
            },
            "type": "scattermapbox"
           }
          ],
          "scatterpolar": [
           {
            "marker": {
             "colorbar": {
              "outlinewidth": 0,
              "ticks": ""
             }
            },
            "type": "scatterpolar"
           }
          ],
          "scatterpolargl": [
           {
            "marker": {
             "colorbar": {
              "outlinewidth": 0,
              "ticks": ""
             }
            },
            "type": "scatterpolargl"
           }
          ],
          "scatterternary": [
           {
            "marker": {
             "colorbar": {
              "outlinewidth": 0,
              "ticks": ""
             }
            },
            "type": "scatterternary"
           }
          ],
          "surface": [
           {
            "colorbar": {
             "outlinewidth": 0,
             "ticks": ""
            },
            "colorscale": [
             [
              0,
              "#0d0887"
             ],
             [
              0.1111111111111111,
              "#46039f"
             ],
             [
              0.2222222222222222,
              "#7201a8"
             ],
             [
              0.3333333333333333,
              "#9c179e"
             ],
             [
              0.4444444444444444,
              "#bd3786"
             ],
             [
              0.5555555555555556,
              "#d8576b"
             ],
             [
              0.6666666666666666,
              "#ed7953"
             ],
             [
              0.7777777777777778,
              "#fb9f3a"
             ],
             [
              0.8888888888888888,
              "#fdca26"
             ],
             [
              1,
              "#f0f921"
             ]
            ],
            "type": "surface"
           }
          ],
          "table": [
           {
            "cells": {
             "fill": {
              "color": "#EBF0F8"
             },
             "line": {
              "color": "white"
             }
            },
            "header": {
             "fill": {
              "color": "#C8D4E3"
             },
             "line": {
              "color": "white"
             }
            },
            "type": "table"
           }
          ]
         },
         "layout": {
          "annotationdefaults": {
           "arrowcolor": "#2a3f5f",
           "arrowhead": 0,
           "arrowwidth": 1
          },
          "autotypenumbers": "strict",
          "coloraxis": {
           "colorbar": {
            "outlinewidth": 0,
            "ticks": ""
           }
          },
          "colorscale": {
           "diverging": [
            [
             0,
             "#8e0152"
            ],
            [
             0.1,
             "#c51b7d"
            ],
            [
             0.2,
             "#de77ae"
            ],
            [
             0.3,
             "#f1b6da"
            ],
            [
             0.4,
             "#fde0ef"
            ],
            [
             0.5,
             "#f7f7f7"
            ],
            [
             0.6,
             "#e6f5d0"
            ],
            [
             0.7,
             "#b8e186"
            ],
            [
             0.8,
             "#7fbc41"
            ],
            [
             0.9,
             "#4d9221"
            ],
            [
             1,
             "#276419"
            ]
           ],
           "sequential": [
            [
             0,
             "#0d0887"
            ],
            [
             0.1111111111111111,
             "#46039f"
            ],
            [
             0.2222222222222222,
             "#7201a8"
            ],
            [
             0.3333333333333333,
             "#9c179e"
            ],
            [
             0.4444444444444444,
             "#bd3786"
            ],
            [
             0.5555555555555556,
             "#d8576b"
            ],
            [
             0.6666666666666666,
             "#ed7953"
            ],
            [
             0.7777777777777778,
             "#fb9f3a"
            ],
            [
             0.8888888888888888,
             "#fdca26"
            ],
            [
             1,
             "#f0f921"
            ]
           ],
           "sequentialminus": [
            [
             0,
             "#0d0887"
            ],
            [
             0.1111111111111111,
             "#46039f"
            ],
            [
             0.2222222222222222,
             "#7201a8"
            ],
            [
             0.3333333333333333,
             "#9c179e"
            ],
            [
             0.4444444444444444,
             "#bd3786"
            ],
            [
             0.5555555555555556,
             "#d8576b"
            ],
            [
             0.6666666666666666,
             "#ed7953"
            ],
            [
             0.7777777777777778,
             "#fb9f3a"
            ],
            [
             0.8888888888888888,
             "#fdca26"
            ],
            [
             1,
             "#f0f921"
            ]
           ]
          },
          "colorway": [
           "#636efa",
           "#EF553B",
           "#00cc96",
           "#ab63fa",
           "#FFA15A",
           "#19d3f3",
           "#FF6692",
           "#B6E880",
           "#FF97FF",
           "#FECB52"
          ],
          "font": {
           "color": "#2a3f5f"
          },
          "geo": {
           "bgcolor": "white",
           "lakecolor": "white",
           "landcolor": "#E5ECF6",
           "showlakes": true,
           "showland": true,
           "subunitcolor": "white"
          },
          "hoverlabel": {
           "align": "left"
          },
          "hovermode": "closest",
          "mapbox": {
           "style": "light"
          },
          "paper_bgcolor": "white",
          "plot_bgcolor": "#E5ECF6",
          "polar": {
           "angularaxis": {
            "gridcolor": "white",
            "linecolor": "white",
            "ticks": ""
           },
           "bgcolor": "#E5ECF6",
           "radialaxis": {
            "gridcolor": "white",
            "linecolor": "white",
            "ticks": ""
           }
          },
          "scene": {
           "xaxis": {
            "backgroundcolor": "#E5ECF6",
            "gridcolor": "white",
            "gridwidth": 2,
            "linecolor": "white",
            "showbackground": true,
            "ticks": "",
            "zerolinecolor": "white"
           },
           "yaxis": {
            "backgroundcolor": "#E5ECF6",
            "gridcolor": "white",
            "gridwidth": 2,
            "linecolor": "white",
            "showbackground": true,
            "ticks": "",
            "zerolinecolor": "white"
           },
           "zaxis": {
            "backgroundcolor": "#E5ECF6",
            "gridcolor": "white",
            "gridwidth": 2,
            "linecolor": "white",
            "showbackground": true,
            "ticks": "",
            "zerolinecolor": "white"
           }
          },
          "shapedefaults": {
           "line": {
            "color": "#2a3f5f"
           }
          },
          "ternary": {
           "aaxis": {
            "gridcolor": "white",
            "linecolor": "white",
            "ticks": ""
           },
           "baxis": {
            "gridcolor": "white",
            "linecolor": "white",
            "ticks": ""
           },
           "bgcolor": "#E5ECF6",
           "caxis": {
            "gridcolor": "white",
            "linecolor": "white",
            "ticks": ""
           }
          },
          "title": {
           "x": 0.05
          },
          "xaxis": {
           "automargin": true,
           "gridcolor": "white",
           "linecolor": "white",
           "ticks": "",
           "title": {
            "standoff": 15
           },
           "zerolinecolor": "white",
           "zerolinewidth": 2
          },
          "yaxis": {
           "automargin": true,
           "gridcolor": "white",
           "linecolor": "white",
           "ticks": "",
           "title": {
            "standoff": 15
           },
           "zerolinecolor": "white",
           "zerolinewidth": 2
          }
         }
        }
       }
      }
     },
     "metadata": {},
     "output_type": "display_data"
    }
   ],
   "source": [
    "import plotly.express as px\n",
    "fig = px.choropleth(outer_merge, locations=\"Country\",\n",
    "                    color=\"Entries\", # lifeExp is a column of gapminder\n",
    "                    hover_name=\"Country\", # column to add to hover information\n",
    "                    color_continuous_scale=px.colors.sequential.Plasma)\n",
    "\n",
    "fig.show()"
   ]
  }
 ],
 "metadata": {
  "kernelspec": {
   "display_name": "Python 3",
   "language": "python",
   "name": "python3"
  },
  "language_info": {
   "codemirror_mode": {
    "name": "ipython",
    "version": 3
   },
   "file_extension": ".py",
   "mimetype": "text/x-python",
   "name": "python",
   "nbconvert_exporter": "python",
   "pygments_lexer": "ipython3",
   "version": "3.10.12"
  }
 },
 "nbformat": 4,
 "nbformat_minor": 2
}
