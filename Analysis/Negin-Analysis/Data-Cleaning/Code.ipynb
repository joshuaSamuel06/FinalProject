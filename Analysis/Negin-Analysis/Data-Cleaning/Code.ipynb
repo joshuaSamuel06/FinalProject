{
 "cells": [
  {
   "cell_type": "code",
   "execution_count": null,
   "metadata": {},
   "outputs": [],
   "source": [
    "import pandas as pd\n",
    "import numpy as np\n",
    "import matplotlib.pyplot as plt"
   ]
  },
  {
   "cell_type": "code",
   "execution_count": null,
   "metadata": {},
   "outputs": [],
   "source": [
    "df = pd.read_csv('survey.csv')"
   ]
  },
  {
   "cell_type": "code",
   "execution_count": null,
   "metadata": {},
   "outputs": [],
   "source": [
    "# Check the data types and missing values\n",
    "df.info()"
   ]
  },
  {
   "cell_type": "code",
   "execution_count": null,
   "metadata": {},
   "outputs": [],
   "source": [
    "# Summary statistics\n",
    "df.describe()"
   ]
  },
  {
   "cell_type": "code",
   "execution_count": null,
   "metadata": {},
   "outputs": [],
   "source": [
    "#List the name of col\n",
    "df.columns.to_list()"
   ]
  },
  {
   "cell_type": "code",
   "execution_count": null,
   "metadata": {},
   "outputs": [],
   "source": [
    "# Check for missing values\n",
    "missing_values = df.isnull().sum()\n",
    "print(missing_values)"
   ]
  },
  {
   "cell_type": "code",
   "execution_count": null,
   "metadata": {},
   "outputs": [],
   "source": [
    "# List of columns to drop\n",
    "columns_to_drop = [\n",
    "    'Q120', 'CodingActivities', 'LearnCodeCoursesCert', 'YearsCode', 'YearsCodePro',\n",
    "     'TechList', 'BuyNewTool', 'LanguageHaveWorkedWith', 'LanguageWantToWorkWith',\n",
    "    'DatabaseHaveWorkedWith', 'DatabaseWantToWorkWith', 'PlatformHaveWorkedWith',\n",
    "    'PlatformWantToWorkWith', 'WebframeHaveWorkedWith', 'WebframeWantToWorkWith',\n",
    "    'MiscTechHaveWorkedWith', 'MiscTechWantToWorkWith', 'ToolsTechHaveWorkedWith',\n",
    "    'ToolsTechWantToWorkWith', 'NEWCollabToolsHaveWorkedWith', 'NEWCollabToolsWantToWorkWith',\n",
    "    'OpSysPersonal use', 'OpSysProfessional use', 'OfficeStackAsyncHaveWorkedWith',\n",
    "    'OfficeStackAsyncWantToWorkWith', 'OfficeStackSyncHaveWorkedWith',\n",
    "    'OfficeStackSyncWantToWorkWith', 'NEWSOSites', 'SOVisitFreq', 'SOAccount', 'SOPartFreq',\n",
    "    'SOComm', 'AIToolInterested in Using', 'AIToolCurrently Using',\n",
    "    'AIToolNot interested in Using', 'AINextVery different', 'AINextNeither different nor similar',\n",
    "    'AINextSomewhat similar', 'AINextVery similar', 'AINextSomewhat different', 'ICorPM',\n",
    "    'Knowledge_1', 'Knowledge_2', 'Knowledge_3', 'Knowledge_4', 'Knowledge_5', 'Knowledge_6',\n",
    "    'Knowledge_7', 'Knowledge_8', 'Frequency_1', 'Frequency_2', 'Frequency_3', 'TimeSearching',\n",
    "    'TimeAnswering', 'ProfessionalTech', 'SurveyLength', 'SurveyEase', 'ConvertedCompYearly' ,\n",
    "'Currency', 'ResponseId']\n",
    "\n",
    "df_cleaned = df.drop(columns=columns_to_drop)\n"
   ]
  },
  {
   "cell_type": "code",
   "execution_count": null,
   "metadata": {},
   "outputs": [],
   "source": [
    "df_cleaned.columns.to_list()"
   ]
  },
  {
   "cell_type": "code",
   "execution_count": null,
   "metadata": {},
   "outputs": [],
   "source": [
    "# Define the new order of columns\n",
    "new_order = ['MainBranch', 'Age', 'Employment','RemoteWork', 'Industry','Country' ,'CompTotal',\n",
    "\t\t\t 'EdLevel', 'OrgSize','WorkExp','DevType','TBranch','LearnCode', 'LearnCodeOnline', \n",
    "             'PurchaseInfluence', 'AISearchHaveWorkedWith', 'AISearchWantToWorkWith',\n",
    "             'AIDevHaveWorkedWith','AIDevWantToWorkWith','AISelect','AISent','AIAcc','AIBen']  \n",
    "\n",
    "df_final = df_cleaned[new_order]\n",
    "df_final.head()"
   ]
  },
  {
   "cell_type": "code",
   "execution_count": null,
   "metadata": {},
   "outputs": [],
   "source": [
    "csv_file_path = 'df_final.csv'\n",
    "\n",
    "df_final.to_csv(csv_file_path, index=False)\n",
    "\n",
    "print(\"New CSV file 'df_final.csv' created successfully in the 'Data_Cleaning' folder.\")"
   ]
  }
 ],
 "metadata": {
  "kernelspec": {
   "display_name": "Python 3",
   "language": "python",
   "name": "python3"
  },
  "language_info": {
   "codemirror_mode": {
    "name": "ipython",
    "version": 3
   },
   "file_extension": ".py",
   "mimetype": "text/x-python",
   "name": "python",
   "nbconvert_exporter": "python",
   "pygments_lexer": "ipython3",
   "version": "3.12.3"
  }
 },
 "nbformat": 4,
 "nbformat_minor": 2
}
